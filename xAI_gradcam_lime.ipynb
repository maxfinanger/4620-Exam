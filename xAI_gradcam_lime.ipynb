{
 "cells": [
  {
   "cell_type": "markdown",
   "id": "10913970",
   "metadata": {},
   "source": [
    "### Import Required Libraries"
   ]
  },
  {
   "cell_type": "code",
   "execution_count": null,
   "id": "2046445b",
   "metadata": {},
   "outputs": [
    {
     "name": "stdout",
     "output_type": "stream",
     "text": [
      "Libraries imported successfully!\n",
      "PyTorch version: 2.5.1\n",
      "CUDA available: False\n",
      "MPS (Apple Silicon GPU) available: True\n",
      "MPS built: True\n",
      "\n",
      "✓ Will use Apple Silicon GPU (MPS) - Fast training!\n"
     ]
    }
   ],
   "source": [
    "\"\"\"\n",
    "Explainable Image Classification on CIFAR-10\n",
    "\n",
    "This notebook implements the complete pipeline for \n",
    "1. Model Selection and Training (ResNet-50)\n",
    "2. Data Preprocessing (CIFAR-10)\n",
    "3. Fine-Tuning with Transfer Learning\n",
    "4. XAI Explanations (Grad-CAM and LIME)\n",
    "\"\"\"\n",
    "import torch\n",
    "import torch.nn as nn\n",
    "import torch.optim as optim\n",
    "from torchvision import datasets, transforms, models\n",
    "from torch.utils.data import DataLoader, random_split\n",
    "import numpy as np\n",
    "import matplotlib.pyplot as plt\n",
    "from tqdm.notebook import tqdm\n",
    "import time\n",
    "\n",
    "# Set random seeds for reproducibility\n",
    "torch.manual_seed(42)\n",
    "np.random.seed(42)\n",
    "\n",
    "print(\"Libraries imported successfully!\")\n",
    "print(f\"PyTorch version: {torch.__version__}\")\n",
    "print(f\"CUDA available: {torch.cuda.is_available()}\")\n",
    "print(f\"MPS (Apple Silicon GPU) available: {torch.backends.mps.is_available()}\")\n",
    "print(f\"MPS built: {torch.backends.mps.is_built()}\")\n",
    "\n",
    "# TODO REMOVE Determine device\n",
    "if torch.backends.mps.is_available():\n",
    "    print(\"\\n✓ Will use Apple Silicon GPU (MPS) - Fast training!\")\n",
    "elif torch.cuda.is_available():\n",
    "    print(\"\\n✓ Will use NVIDIA GPU (CUDA)\")\n",
    "else:\n",
    "    print(\"\\n⚠️ Will use CPU - Training will be slower\")"
   ]
  }
 ],
 "metadata": {
  "kernelspec": {
   "display_name": "in3050",
   "language": "python",
   "name": "python3"
  },
  "language_info": {
   "codemirror_mode": {
    "name": "ipython",
    "version": 3
   },
   "file_extension": ".py",
   "mimetype": "text/x-python",
   "name": "python",
   "nbconvert_exporter": "python",
   "pygments_lexer": "ipython3",
   "version": "3.12.2"
  }
 },
 "nbformat": 4,
 "nbformat_minor": 5
}
