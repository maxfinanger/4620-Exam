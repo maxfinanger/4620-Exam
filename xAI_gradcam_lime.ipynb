{
 "cells": [
  {
   "cell_type": "markdown",
   "id": "10913970",
   "metadata": {},
   "source": [
    "### Import Required Libraries"
   ]
  },
  {
   "cell_type": "code",
   "execution_count": 6,
   "id": "2046445b",
   "metadata": {},
   "outputs": [
    {
     "name": "stdout",
     "output_type": "stream",
     "text": [
      "Libraries imported successfully!\n",
      "PyTorch version: 2.5.1\n",
      "CUDA available: False\n",
      "MPS (Apple Silicon GPU) available: True\n",
      "MPS built: True\n"
     ]
    }
   ],
   "source": [
    "\"\"\"\n",
    "Explainable Image Classification on CIFAR-10\n",
    "\n",
    "This notebook implements the complete pipeline for \n",
    "1. Model Selection and Training (ResNet-50)\n",
    "2. Data Preprocessing (CIFAR-10)\n",
    "3. Fine-Tuning with Transfer Learning\n",
    "4. XAI Explanations (Grad-CAM and LIME)\n",
    "\"\"\"\n",
    "import torch\n",
    "import torch.nn as nn\n",
    "import torch.optim as optim\n",
    "from torchvision import datasets, transforms, models\n",
    "from torch.utils.data import DataLoader, random_split\n",
    "import numpy as np\n",
    "import matplotlib.pyplot as plt\n",
    "from tqdm.notebook import tqdm\n",
    "import time\n",
    "\n",
    "# Set random seeds for reproducibility\n",
    "torch.manual_seed(42)\n",
    "np.random.seed(42)\n",
    "\n",
    "print(\"Libraries imported successfully!\")\n",
    "print(f\"PyTorch version: {torch.__version__}\")\n",
    "print(f\"CUDA available: {torch.cuda.is_available()}\")\n",
    "print(f\"MPS (Apple Silicon GPU) available: {torch.backends.mps.is_available()}\")\n",
    "print(f\"MPS built: {torch.backends.mps.is_built()}\")"
   ]
  },
  {
   "cell_type": "markdown",
   "id": "514cb436",
   "metadata": {},
   "source": [
    "### Device Setup"
   ]
  },
  {
   "cell_type": "code",
   "execution_count": 7,
   "id": "178eef26",
   "metadata": {},
   "outputs": [
    {
     "name": "stdout",
     "output_type": "stream",
     "text": [
      "\n",
      "================================================================================\n",
      "DEVICE CONFIGURATION\n",
      "================================================================================\n",
      "Using: Apple Silicon GPU (Metal Performance Shaders)\n",
      "✓ M1/M2/M3/M4 GPU acceleration enabled\n",
      "✓ Unified memory architecture optimized\n",
      "================================================================================\n"
     ]
    }
   ],
   "source": [
    "def setup_device():\n",
    "    \"\"\"\n",
    "    Configure the computation device for optimal performance.\n",
    "    \n",
    "    Device Priority:\n",
    "    1. MPS (Metal Performance Shaders) - Apple Silicon GPU (M1/M2/M3)\n",
    "    2. CUDA - NVIDIA GPU\n",
    "    3. CPU - Fallback option\n",
    "    \n",
    "    Returns:\n",
    "        torch.device: The device to be used for tensor operations\n",
    "    \"\"\"\n",
    "    # Check for Apple Silicon GPU (MPS)\n",
    "    if torch.backends.mps.is_available() and torch.backends.mps.is_built():\n",
    "        device = torch.device(\"mps\")\n",
    "        print(\"\\n\" + \"=\"*80)\n",
    "        print(\"DEVICE CONFIGURATION\")\n",
    "        print(\"=\"*80)\n",
    "        print(\"Using: Apple Silicon GPU (Metal Performance Shaders)\")\n",
    "        print(\"✓ M1/M2/M3/M4 GPU acceleration enabled\")\n",
    "        print(\"✓ Unified memory architecture optimized\")\n",
    "    # Check for NVIDIA GPU (CUDA)\n",
    "    elif torch.cuda.is_available():\n",
    "        device = torch.device(\"cuda\")\n",
    "        print(\"\\n\" + \"=\"*80)\n",
    "        print(\"DEVICE CONFIGURATION\")\n",
    "        print(\"=\"*80)\n",
    "        print(f\"Using: NVIDIA GPU - {torch.cuda.get_device_name(0)}\")\n",
    "        print(f\"GPU Memory: {torch.cuda.get_device_properties(0).total_memory / 1e9:.2f} GB\")\n",
    "        print(\"✓ CUDA acceleration enabled\")\n",
    "    # Fallback to CPU\n",
    "    else:\n",
    "        device = torch.device(\"cpu\")\n",
    "        print(\"\\n\" + \"=\"*80)\n",
    "        print(\"DEVICE CONFIGURATION\")\n",
    "        print(\"=\"*80)\n",
    "        print(\"Using: CPU\")\n",
    "        print(\"⚠️ GPU acceleration not available - training will be slower\")\n",
    "        print(\"Consider using Google Colab for free GPU access\")\n",
    "    \n",
    "    print(\"=\"*80)\n",
    "    return device\n",
    "\n",
    "# Initialize device\n",
    "device = setup_device()"
   ]
  },
  {
   "cell_type": "markdown",
   "id": "b671fabe",
   "metadata": {},
   "source": [
    "### Dataset Loadin and Preprocessing "
   ]
  },
  {
   "cell_type": "code",
   "execution_count": 8,
   "id": "6a1b5cb6",
   "metadata": {},
   "outputs": [
    {
     "name": "stdout",
     "output_type": "stream",
     "text": [
      "Loading CIFAR-10 dataset...\n",
      "Downloading https://www.cs.toronto.edu/~kriz/cifar-10-python.tar.gz to ./data/cifar-10-python.tar.gz\n"
     ]
    },
    {
     "name": "stderr",
     "output_type": "stream",
     "text": [
      "100%|██████████| 170M/170M [00:19<00:00, 8.86MB/s] \n"
     ]
    },
    {
     "name": "stdout",
     "output_type": "stream",
     "text": [
      "Extracting ./data/cifar-10-python.tar.gz to ./data\n",
      "Files already downloaded and verified\n",
      "\n",
      "Dataset Statistics:\n",
      "  Training samples: 40,000\n",
      "  Validation samples: 10,000\n",
      "  Test samples: 10,000\n",
      "  Number of classes: 10\n",
      "  Batch size: 64\n",
      "  Image size: 224×224×3\n",
      "  Normalization: mean=[0.485, 0.456, 0.406], std=[0.229, 0.224, 0.225]\n"
     ]
    }
   ],
   "source": [
    "def load_cifar10_data(batch_size=64, num_workers=0):\n",
    "    \"\"\"\n",
    "    Load and preprocess CIFAR-10 dataset for ResNet-50.\n",
    "    \n",
    "    Dataset: 60,000 images (32×32) in 10 classes\n",
    "    Preprocessing: Resize to 224×224, ImageNet normalization\n",
    "    Split: 40k train / 10k validation / 10k test\n",
    "    \n",
    "    Args:\n",
    "        batch_size (int): Samples per batch (64 optimal for M1)\n",
    "        num_workers (int): Data loading threads (0 for MPS)\n",
    "    \n",
    "    Returns:\n",
    "        tuple: (train_loader, val_loader, test_loader, class_names)\n",
    "    \"\"\"\n",
    "    # ImageNet normalization constants\n",
    "    mean = [0.485, 0.456, 0.406]\n",
    "    std = [0.229, 0.224, 0.225]\n",
    "\n",
    "    # Training augmentation\n",
    "    train_transform = transforms.Compose([\n",
    "        transforms.Resize(224),  # Resize to 224×224\n",
    "        transforms.RandomHorizontalFlip(p=0.5),  # Random flip\n",
    "        transforms.RandomCrop(224, padding=4),  # Random crop\n",
    "        transforms.ColorJitter(brightness=0.2, contrast=0.2),  # Color augmentation\n",
    "        transforms.ToTensor(),  # Convert to tensor\n",
    "        transforms.Normalize(mean, std)  # Normalize\n",
    "    ])\n",
    "    # Validation/test transform (no augmentation)\n",
    "    test_transform = transforms.Compose([\n",
    "        transforms.Resize(224),\n",
    "        transforms.ToTensor(),\n",
    "        transforms.Normalize(mean, std)\n",
    "    ])\n",
    "    # Download CIFAR-10\n",
    "    print(\"Loading CIFAR-10 dataset...\")\n",
    "    train_val_dataset = datasets.CIFAR10(\n",
    "        root='./data',\n",
    "        train=True,\n",
    "        download=True,\n",
    "        transform=train_transform\n",
    "    )\n",
    "    \n",
    "    test_dataset = datasets.CIFAR10(\n",
    "        root='./data',\n",
    "        train=False,\n",
    "        download=True,\n",
    "        transform=test_transform\n",
    "    )\n",
    "\n",
    "    # Split train into train/val (80/20)\n",
    "    train_size = int(0.8*len(train_val_dataset))\n",
    "    val_size = len(train_val_dataset) - train_size\n",
    "\n",
    "    train_dataset, val_dataset = random_split(\n",
    "        train_val_dataset,\n",
    "        [train_size, val_size],\n",
    "        generator=torch.Generator().manual_seed(42)\n",
    "    )\n",
    "\n",
    "    # Apply test transform to validation\n",
    "    val_dataset.dataset = datasets.CIFAR10(\n",
    "        root='./data',\n",
    "        train=True,\n",
    "        download=False,\n",
    "        transform=test_transform\n",
    "    )\n",
    "\n",
    "    # Create data loaders\n",
    "    train_loader = DataLoader(\n",
    "        train_dataset,\n",
    "        batch_size=batch_size,\n",
    "        shuffle=True,\n",
    "        num_workers=num_workers,\n",
    "        pin_memory=False  # Not needed for MPS\n",
    "    )\n",
    "    \n",
    "    val_loader = DataLoader(\n",
    "        val_dataset,\n",
    "        batch_size=batch_size,\n",
    "        shuffle=False,\n",
    "        num_workers=num_workers,\n",
    "        pin_memory=False\n",
    "    )\n",
    "    \n",
    "    test_loader = DataLoader(\n",
    "        test_dataset,\n",
    "        batch_size=batch_size,\n",
    "        shuffle=False,\n",
    "        num_workers=num_workers,\n",
    "        pin_memory=False\n",
    "    )\n",
    "\n",
    "    # Class names\n",
    "    classes = ['airplane', 'automobile', 'bird', 'cat', 'deer',\n",
    "               'dog', 'frog', 'horse', 'ship', 'truck']\n",
    "    \n",
    "    # Print statistics\n",
    "    print(f\"\\nDataset Statistics:\")\n",
    "    print(f\"  Training samples: {len(train_dataset):,}\")\n",
    "    print(f\"  Validation samples: {len(val_dataset):,}\")\n",
    "    print(f\"  Test samples: {len(test_dataset):,}\")\n",
    "    print(f\"  Number of classes: {len(classes)}\")\n",
    "    print(f\"  Batch size: {batch_size}\")\n",
    "    print(f\"  Image size: 224×224×3\")\n",
    "    print(f\"  Normalization: mean={mean}, std={std}\")\n",
    "    \n",
    "    return train_loader, val_loader, test_loader, classes\n",
    "# Load CIFAR-10 data\n",
    "train_loader, val_loader, test_loader, class_names = load_cifar10_data(batch_size=64, num_workers=0)"
   ]
  }
 ],
 "metadata": {
  "kernelspec": {
   "display_name": "in3050",
   "language": "python",
   "name": "python3"
  },
  "language_info": {
   "codemirror_mode": {
    "name": "ipython",
    "version": 3
   },
   "file_extension": ".py",
   "mimetype": "text/x-python",
   "name": "python",
   "nbconvert_exporter": "python",
   "pygments_lexer": "ipython3",
   "version": "3.12.2"
  }
 },
 "nbformat": 4,
 "nbformat_minor": 5
}
