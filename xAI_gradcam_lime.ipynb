{
 "cells": [
  {
   "cell_type": "markdown",
   "id": "10913970",
   "metadata": {},
   "source": [
    "### Import Required Libraries"
   ]
  },
  {
   "cell_type": "code",
   "execution_count": null,
   "id": "2046445b",
   "metadata": {},
   "outputs": [
    {
     "name": "stdout",
     "output_type": "stream",
     "text": [
      "Libraries imported successfully!\n",
      "PyTorch version: 2.5.1\n",
      "CUDA available: False\n",
      "MPS (Apple Silicon GPU) available: True\n",
      "MPS built: True\n",
      "\n",
      "✓ Will use Apple Silicon GPU (MPS) - Fast training!\n"
     ]
    }
   ],
   "source": [
    "\"\"\"\n",
    "Explainable Image Classification on CIFAR-10\n",
    "\n",
    "This notebook implements the complete pipeline for \n",
    "1. Model Selection and Training (ResNet-50)\n",
    "2. Data Preprocessing (CIFAR-10)\n",
    "3. Fine-Tuning with Transfer Learning\n",
    "4. XAI Explanations (Grad-CAM and LIME)\n",
    "\"\"\"\n",
    "import torch\n",
    "import torch.nn as nn\n",
    "import torch.optim as optim\n",
    "from torchvision import datasets, transforms, models\n",
    "from torch.utils.data import DataLoader, random_split\n",
    "import numpy as np\n",
    "import matplotlib.pyplot as plt\n",
    "from tqdm.notebook import tqdm\n",
    "import time\n",
    "\n",
    "# Set random seeds for reproducibility\n",
    "torch.manual_seed(42)\n",
    "np.random.seed(42)\n",
    "\n",
    "print(\"Libraries imported successfully!\")\n",
    "print(f\"PyTorch version: {torch.__version__}\")\n",
    "print(f\"CUDA available: {torch.cuda.is_available()}\")\n",
    "print(f\"MPS (Apple Silicon GPU) available: {torch.backends.mps.is_available()}\")\n",
    "print(f\"MPS built: {torch.backends.mps.is_built()}\")"
   ]
  },
  {
   "cell_type": "markdown",
   "id": "514cb436",
   "metadata": {},
   "source": [
    "### Device Setup"
   ]
  },
  {
   "cell_type": "code",
   "execution_count": null,
   "id": "178eef26",
   "metadata": {},
   "outputs": [
    {
     "name": "stdout",
     "output_type": "stream",
     "text": [
      "\n",
      "================================================================================\n",
      "DEVICE CONFIGURATION\n",
      "================================================================================\n",
      "Using: Apple Silicon GPU (Metal Performance Shaders)\n",
      "✓ M1/M2/M3 GPU acceleration enabled\n",
      "✓ Unified memory architecture optimized\n",
      "================================================================================\n"
     ]
    }
   ],
   "source": [
    "def setup_device():\n",
    "    \"\"\"\n",
    "    Configure the computation device for optimal performance.\n",
    "    \n",
    "    Device Priority:\n",
    "    1. MPS (Metal Performance Shaders) - Apple Silicon GPU (M1/M2/M3)\n",
    "    2. CUDA - NVIDIA GPU\n",
    "    3. CPU - Fallback option\n",
    "    \n",
    "    Returns:\n",
    "        torch.device: The device to be used for tensor operations\n",
    "    \"\"\"\n",
    "    # Check for Apple Silicon GPU (MPS)\n",
    "    if torch.backends.mps.is_available() and torch.backends.mps.is_built():\n",
    "        device = torch.device(\"mps\")\n",
    "        print(\"\\n\" + \"=\"*80)\n",
    "        print(\"DEVICE CONFIGURATION\")\n",
    "        print(\"=\"*80)\n",
    "        print(\"Using: Apple Silicon GPU (Metal Performance Shaders)\")\n",
    "        print(\"✓ M1/M2/M3/M4 GPU acceleration enabled\")\n",
    "        print(\"✓ Unified memory architecture optimized\")\n",
    "    # Check for NVIDIA GPU (CUDA)\n",
    "    elif torch.cuda.is_available():\n",
    "        device = torch.device(\"cuda\")\n",
    "        print(\"\\n\" + \"=\"*80)\n",
    "        print(\"DEVICE CONFIGURATION\")\n",
    "        print(\"=\"*80)\n",
    "        print(f\"Using: NVIDIA GPU - {torch.cuda.get_device_name(0)}\")\n",
    "        print(f\"GPU Memory: {torch.cuda.get_device_properties(0).total_memory / 1e9:.2f} GB\")\n",
    "        print(\"✓ CUDA acceleration enabled\")\n",
    "    # Fallback to CPU\n",
    "    else:\n",
    "        device = torch.device(\"cpu\")\n",
    "        print(\"\\n\" + \"=\"*80)\n",
    "        print(\"DEVICE CONFIGURATION\")\n",
    "        print(\"=\"*80)\n",
    "        print(\"Using: CPU\")\n",
    "        print(\"⚠️ GPU acceleration not available - training will be slower\")\n",
    "        print(\"Consider using Google Colab for free GPU access\")\n",
    "    \n",
    "    print(\"=\"*80)\n",
    "    return device\n",
    "\n",
    "# Initialize device\n",
    "device = setup_device()"
   ]
  }
 ],
 "metadata": {
  "kernelspec": {
   "display_name": "in3050",
   "language": "python",
   "name": "python3"
  },
  "language_info": {
   "codemirror_mode": {
    "name": "ipython",
    "version": 3
   },
   "file_extension": ".py",
   "mimetype": "text/x-python",
   "name": "python",
   "nbconvert_exporter": "python",
   "pygments_lexer": "ipython3",
   "version": "3.12.2"
  }
 },
 "nbformat": 4,
 "nbformat_minor": 5
}
